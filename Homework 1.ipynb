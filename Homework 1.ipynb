{
 "cells": [
  {
   "cell_type": "markdown",
   "id": "ea934189",
   "metadata": {},
   "source": [
    "# Homework 1\n",
    "CSE 158\n",
    "\n",
    "Lucy Gai"
   ]
  },
  {
   "cell_type": "markdown",
   "id": "e906c182",
   "metadata": {},
   "source": [
    "Using book review data:"
   ]
  },
  {
   "cell_type": "markdown",
   "id": "2dc26c4a",
   "metadata": {},
   "source": [
    "### 1. What is the distribution of ratings and review lengths in the dataset? Report the number of 1-, 2-, 3-star (etc.) ratings, and show the relationship with length (e.g. via a scatterplot)"
   ]
  },
  {
   "cell_type": "code",
   "execution_count": 2,
   "id": "74833397",
   "metadata": {},
   "outputs": [],
   "source": [
    "import json\n",
    "import matplotlib.pyplot as plt\n",
    "import numpy as np\n",
    "import sklearn\n",
    "import dateutil.parser\n",
    "import random\n",
    "import urllib\n",
    "from collections import defaultdict\n",
    "from sklearn import linear_model\n",
    "from sklearn.model_selection import train_test_split\n",
    "from sklearn.preprocessing import OneHotEncoder"
   ]
  },
  {
   "cell_type": "code",
   "execution_count": 123,
   "id": "084dc5a6",
   "metadata": {},
   "outputs": [],
   "source": [
    "# read in data \n",
    "f = open(\"fantasy_10000.json\")\n",
    "\n",
    "# list of dictionaries, each a review\n",
    "data = []\n",
    "\n",
    "for line in f:\n",
    "    entry = json.loads(line)\n",
    "    data.append(entry)\n",
    "    \n",
    "f.close()\n",
    "\n",
    "# data[0] #is one review as a dict"
   ]
  },
  {
   "cell_type": "code",
   "execution_count": 124,
   "id": "f0e7ce3e",
   "metadata": {},
   "outputs": [
    {
     "data": {
      "text/plain": [
       "defaultdict(int, {5: 3232, 4: 3265, 3: 2113, 2: 778, 1: 286, 0: 326})"
      ]
     },
     "execution_count": 124,
     "metadata": {},
     "output_type": "execute_result"
    }
   ],
   "source": [
    "# get distribution of ratings\n",
    "ratingCounts = defaultdict(int)\n",
    "ratingData = []\n",
    "\n",
    "for entry in data:\n",
    "    \n",
    "    # count the number of 1-star, 2-star, etc ratings\n",
    "    ratingCounts[entry['rating']] += 1\n",
    "\n",
    "ratingCounts"
   ]
  },
  {
   "cell_type": "code",
   "execution_count": 125,
   "id": "0519602a",
   "metadata": {},
   "outputs": [
    {
     "data": {
      "image/png": "[encoded data removed]",
      "text/plain": [
       "<Figure size 432x288 with 1 Axes>"
      ]
     },
     "metadata": {
      "needs_background": "light"
     },
     "output_type": "display_data"
    }
   ],
   "source": [
    "# plot dist. of ratings\n",
    "# plt.hist(ratingData, 5)\n",
    "plt.bar(ratingCounts.keys(), ratingCounts.values())\n",
    "plt.xlabel(\"Rating\")\n",
    "plt.ylabel(\"Count\")\n",
    "plt.title(\"Distribution of Ratings\")\n",
    "plt.show()"
   ]
  },
  {
   "cell_type": "markdown",
   "id": "65b6817c",
   "metadata": {},
   "source": [
    "**The distribution of ratings is:**\n",
    "- 0 star: 326 ratings\n",
    "- 1 star: 286 ratings\n",
    "- 2 star: 778 ratings\n",
    "- 3 star: 2113 ratings\n",
    "- 4 star: 3265 ratings\n",
    "- 5 star: 3232 ratings"
   ]
  },
  {
   "cell_type": "code",
   "execution_count": 126,
   "id": "6239e792",
   "metadata": {},
   "outputs": [],
   "source": [
    "# get list of ratings\n",
    "ratingsY = [entry['rating'] for entry in data]\n",
    "\n",
    "# get list of review lengths\n",
    "lengthsX = [len(entry['review_text']) for entry in data]"
   ]
  },
  {
   "cell_type": "code",
   "execution_count": 127,
   "id": "c46f5bfe",
   "metadata": {},
   "outputs": [
    {
     "data": {
      "image/png": "[encoded data removed]",
      "text/plain": [
       "<Figure size 432x288 with 1 Axes>"
      ]
     },
     "metadata": {
      "needs_background": "light"
     },
     "output_type": "display_data"
    }
   ],
   "source": [
    "# plot scatterplot\n",
    "plt.scatter(lengthsX, ratingsY)\n",
    "plt.xlim(0, 20000)\n",
    "plt.xlabel(\"Review Length (characters)\")\n",
    "plt.ylabel(\"Rating\")\n",
    "plt.title(\"Rating vs. Review Length\")\n",
    "plt.show()"
   ]
  },
  {
   "cell_type": "markdown",
   "id": "bd4f6e4c",
   "metadata": {},
   "source": [
    "The relationship of ratings with length is shown above."
   ]
  },
  {
   "cell_type": "markdown",
   "id": "0effdd82",
   "metadata": {},
   "source": [
    "### 2. Train a simple predictor that estimates rating from review length. Report the values $θ_{0}$ and $θ_{1}$, and the Mean Squared Error of your predictor (on the entire dataset)."
   ]
  },
  {
   "cell_type": "code",
   "execution_count": 128,
   "id": "0f4d9459",
   "metadata": {},
   "outputs": [],
   "source": [
    "def get_mse_q2(model, rating, length):\n",
    "    X = np.matrix([[1,l] for l in length])\n",
    "    y = np.matrix(rating).T\n",
    "    \n",
    "    yPred = model.predict(X)\n",
    "    sse = sum([x**2 for x in (y - yPred)]) # y - y_i\n",
    "    mse = sse / len(y)\n",
    "    \n",
    "    return mse"
   ]
  },
  {
   "cell_type": "code",
   "execution_count": 129,
   "id": "d18f8177",
   "metadata": {},
   "outputs": [],
   "source": [
    "def predictor_q2(rating, length):\n",
    "    X = np.matrix([[1,l] for l in length])\n",
    "    y = np.matrix(rating).T\n",
    "\n",
    "    #theta,residuals,rank,s = np.linalg.lstsq(X, y, rcond=None)\n",
    "    \n",
    "    # get relationship\n",
    "    model = sklearn.linear_model.LinearRegression(fit_intercept=False)\n",
    "    model.fit(X, y)\n",
    "    theta = model.coef_\n",
    "    \n",
    "    print(\"theta_0: \", theta[0][0],\n",
    "          \"\\ntheta_1: \", theta[0][1])\n",
    "    \n",
    "    return model"
   ]
  },
  {
   "cell_type": "code",
   "execution_count": 130,
   "id": "a2b7501a",
   "metadata": {},
   "outputs": [
    {
     "name": "stdout",
     "output_type": "stream",
     "text": [
      "theta_0:  3.68568135501692 \n",
      "theta_1:  6.873716748962714e-05\n",
      "\n",
      "mse:  [[1.55220866]]\n"
     ]
    }
   ],
   "source": [
    "model = predictor_q2(ratingsY, lengthsX)\n",
    "print(\"\\nmse: \", get_mse_q2(model, ratingsY, lengthsX))"
   ]
  },
  {
   "cell_type": "markdown",
   "id": "27f20f86",
   "metadata": {},
   "source": [
    "#### star rating is approx: 3.685681355 + 0.000068737 * (review length in chars) \n",
    "#### The MSE of my predictor is 1.55220866"
   ]
  },
  {
   "cell_type": "markdown",
   "id": "2b9e2118",
   "metadata": {},
   "source": [
    "### 3. Extend your model to include (in addition to the length) features based on the time of the review. Using a one-hot encoding for the weekday and year, write down feature vectors for the first two examples."
   ]
  },
  {
   "cell_type": "code",
   "execution_count": 131,
   "id": "6bc20836",
   "metadata": {},
   "outputs": [],
   "source": [
    "# get array of years, weeks\n",
    "dates = [(dateutil.parser.parse(entry['date_added'])) for entry in data]\n",
    "years = [entry.year for entry in dates]\n",
    "weeks = [entry.weekday() for entry in dates]\n",
    "\n",
    "\n",
    "# min(years) = 2006, max(years) = 2017\n",
    "# 12 years"
   ]
  },
  {
   "cell_type": "code",
   "execution_count": 132,
   "id": "d3f20f20",
   "metadata": {},
   "outputs": [],
   "source": [
    "# Implement One Hot Encoding\n",
    "# [[week, year], [week, year]]\n",
    "X = [list(a) for a in zip(weeks, years)]\n",
    "enc = OneHotEncoder(drop='first')\n",
    "enc.fit(X)\n",
    "\n",
    "# 0 0 0 0 0 0 is monday (0)\n",
    "# 0 0 0 0 0 1 is sunday (6)\n",
    "# 11 zero's is 2006, 00000000001 is 2017\n",
    "dates_enc = enc.transform(X).toarray()\n",
    "dates_enc = list(list(d) for d in dates_enc)\n",
    "# dates_enc[0]"
   ]
  },
  {
   "cell_type": "code",
   "execution_count": 133,
   "id": "f56e372e",
   "metadata": {},
   "outputs": [],
   "source": [
    "# create feature vector\n",
    "# (1, length, encodings)\n",
    "def feat_enc(ind):\n",
    "    vec = [1, lengthsX[ind]]\n",
    "    vec.extend([d for d in dates_enc[ind]])\n",
    "    return vec"
   ]
  },
  {
   "cell_type": "markdown",
   "id": "90bb57c3",
   "metadata": {},
   "source": [
    "#### Feature vectors for first two examples"
   ]
  },
  {
   "cell_type": "code",
   "execution_count": 134,
   "id": "0564be93",
   "metadata": {},
   "outputs": [
    {
     "name": "stdout",
     "output_type": "stream",
     "text": [
      "Feature vector for first example:  [1, 2086, 0.0, 0.0, 0.0, 0.0, 0.0, 1.0, 0.0, 0.0, 0.0, 0.0, 0.0, 0.0, 0.0, 0.0, 0.0, 0.0, 1.0] \n",
      " Feature vector for second example:  [1, 1521, 0.0, 1.0, 0.0, 0.0, 0.0, 0.0, 0.0, 0.0, 0.0, 0.0, 0.0, 0.0, 0.0, 1.0, 0.0, 0.0, 0.0]\n"
     ]
    }
   ],
   "source": [
    "feat_vects = [feat_enc(ind) for ind in range(len(data))] #list of lists\n",
    "\n",
    "print(\"Feature vector for first example: \", feat_vects[0], \n",
    "     \"\\n Feature vector for second example: \", feat_vects[1])"
   ]
  },
  {
   "cell_type": "markdown",
   "id": "3fabe517",
   "metadata": {},
   "source": [
    "### 4. Train models that use the weekday and year values directly as features and use the one-hot encoding from Question 3. Report the MSE of each."
   ]
  },
  {
   "cell_type": "code",
   "execution_count": 135,
   "id": "dd15ab2f",
   "metadata": {},
   "outputs": [],
   "source": [
    "def get_mse(model, testRating, testLength, testWeek, testYear):\n",
    "    \n",
    "    X = np.matrix([[1,testLength[ind],testWeek[ind], testYear[ind]] for ind in range(len(testLength))])\n",
    "    y = np.matrix(testRating).T\n",
    "    \n",
    "    yPred = model.predict(X)\n",
    "    sse = sum([x**2 for x in (y - yPred)]) # y - y_i\n",
    "    mse = sse / len(y)\n",
    "\n",
    "    return mse"
   ]
  },
  {
   "cell_type": "code",
   "execution_count": 136,
   "id": "06e288e8",
   "metadata": {},
   "outputs": [],
   "source": [
    "# use weekday and year values directly\n",
    "def predictor(rating, rlength, wkday, yr):\n",
    "    X = np.matrix([[1,rlength[ind],wkday[ind], yr[ind]] for ind in range(len(rlength))])\n",
    "    y = np.matrix(rating).T\n",
    "\n",
    "    #theta,residuals,rank,s = np.linalg.lstsq(X, y, rcond=None)\n",
    "    \n",
    "    # get relationship\n",
    "    model = sklearn.linear_model.LinearRegression(fit_intercept=False)\n",
    "    model.fit(X, y)\n",
    "    theta = model.coef_\n",
    "    \n",
    "    #mse = get_mse(model, X, y)\n",
    "    \n",
    "    print(\"theta_0: \", theta[0][0],\n",
    "         \"\\ntheta_1: \", theta[0][1],\n",
    "         \"\\ntheta_2: \", theta[0][2],\n",
    "         \"\\ntheta_3: \", theta[0][3])\n",
    "    \n",
    "    return model"
   ]
  },
  {
   "cell_type": "code",
   "execution_count": 137,
   "id": "71e8fca2",
   "metadata": {},
   "outputs": [
    {
     "name": "stdout",
     "output_type": "stream",
     "text": [
      "theta_0:  -101.74246106529775 \n",
      "theta_1:  5.509232919324332e-05 \n",
      "theta_2:  0.008750722999010124 \n",
      "theta_3:  0.05235922676148598\n",
      "\n",
      "mse:  [[1.53677405]]\n"
     ]
    }
   ],
   "source": [
    "model = predictor(ratingsY, lengthsX, weeks, years)\n",
    "print(\"\\nmse: \", get_mse(model, ratingsY, lengthsX, weeks, years))"
   ]
  },
  {
   "cell_type": "code",
   "execution_count": 145,
   "id": "d50fef8c",
   "metadata": {},
   "outputs": [],
   "source": [
    "# ft_vects has a one hot encoding for dayofweek and year where each feature vector is [1, length, dayofweek, year]\n",
    "def one_hot(rating, length, week, year):\n",
    "\n",
    "    # list out categories\n",
    "    cat_days = [0, 1, 2, 3, 4, 5, 6]\n",
    "    cat_yrs = [2006, 2007, 2008, 2009, 2010, 2011, 2012, 2013, 2014, 2015, 2016, 2017]\n",
    "    cat = [cat_days, cat_yrs]\n",
    "    \n",
    "    X = [list(a) for a in zip(week, year)]\n",
    "    enc = OneHotEncoder(categories=cat, drop='first')\n",
    "    enc.fit(X)\n",
    "    dates_enc = enc.transform(X).toarray() # array of encoded dates\n",
    "    dates_enc = list(list(d) for d in dates_enc) # list of lists of encoded dates\n",
    "    \n",
    "    ft_vects = []\n",
    "    for i in range(len(length)):\n",
    "        vec = [1, length[i]]\n",
    "        vec.extend([d for d in dates_enc[i]])\n",
    "        ft_vects.append(vec)\n",
    "\n",
    "    return [ft_vects, rating]"
   ]
  },
  {
   "cell_type": "code",
   "execution_count": 146,
   "id": "54c07873",
   "metadata": {},
   "outputs": [],
   "source": [
    "def get_mse_one(model, testRating, testLength, testWeek, testYear):\n",
    "    \n",
    "    # create one hot encoding (somewhat same from q3)\n",
    "    enc = one_hot(testRating, testLength, testWeek, testYear)\n",
    "    X = np.matrix(enc[0])\n",
    "    y = np.matrix(enc[1]).T\n",
    "\n",
    "    \n",
    "    yPred = model.predict(X)\n",
    "    sse = sum([x**2 for x in (y - yPred)]) # y - y_i\n",
    "    mse = sse / len(y)\n",
    "\n",
    "    return mse"
   ]
  },
  {
   "cell_type": "code",
   "execution_count": 147,
   "id": "30755317",
   "metadata": {},
   "outputs": [],
   "source": [
    "# use onehot encoding\n",
    "def predictor_onehot(rating, length, week, year):\n",
    "    \n",
    "    # create one hot encoding (somewhat same from q3)\n",
    "    enc = one_hot(rating, length, week, year)\n",
    "    X = np.matrix(enc[0])\n",
    "    y = np.matrix(enc[1]).T\n",
    "    \n",
    "    # get relationship\n",
    "    model = sklearn.linear_model.LinearRegression(fit_intercept=False)\n",
    "    model.fit(X, y)\n",
    "    theta = model.coef_\n",
    "    \n",
    "    print(\"theta_0: \", theta[0][0],\n",
    "         \"\\ntheta_1: \", theta[0][1],\n",
    "         \"\\ntheta_2: \", theta[0][2],\n",
    "         \"\\ntheta_3: \", theta[0][3])\n",
    "    \n",
    "    return model"
   ]
  },
  {
   "cell_type": "code",
   "execution_count": 148,
   "id": "15d35d8c",
   "metadata": {},
   "outputs": [
    {
     "name": "stdout",
     "output_type": "stream",
     "text": [
      "theta_0:  4.871714791091356 \n",
      "theta_1:  5.157093860049476e-05 \n",
      "theta_2:  0.048900344088571635 \n",
      "theta_3:  0.14570979775519274\n",
      "\n",
      "mse:  [[1.51235787]]\n"
     ]
    }
   ],
   "source": [
    "model = predictor_onehot(ratingsY, lengthsX, weeks, years)\n",
    "print(\"\\nmse: \", get_mse_one(model, ratingsY, lengthsX, weeks, years))"
   ]
  },
  {
   "cell_type": "markdown",
   "id": "cb7d98ef",
   "metadata": {},
   "source": [
    "#### When using weekday and year values directly, the MSE was 1.53677405. \n",
    "#### When using one-hot encoding, the MSE was 1.51235787."
   ]
  },
  {
   "cell_type": "markdown",
   "id": "49de6224",
   "metadata": {},
   "source": [
    "### 5. Repeat the above question, but this time split the data into a training and test set. You should split the data randomly into 50%/50% train/test fractions. Report the MSE of each model separately on the training and test sets."
   ]
  },
  {
   "cell_type": "code",
   "execution_count": 149,
   "id": "199492e7",
   "metadata": {},
   "outputs": [],
   "source": [
    "# split data randomly into train/test sets\n",
    "data_shuffled = data[:]\n",
    "train_data, test_data = train_test_split(data_shuffled, test_size=0.5, random_state=69)"
   ]
  },
  {
   "cell_type": "code",
   "execution_count": 150,
   "id": "dc2f1a45",
   "metadata": {},
   "outputs": [],
   "source": [
    "# data_shuffled = data[:]\n",
    "# random.shuffle(data_shuffled)\n",
    "\n",
    "# n = (int)(len(data)/2)\n",
    "# train_data = data_shuffled[:n]\n",
    "# test_data = data_shuffled[n:]\n",
    "\n",
    "# preprocess data (can change implementation to eliminate this step)\n",
    "# get list of ratings\n",
    "train_ratings = [entry['rating'] for entry in train_data]\n",
    "test_ratings = [entry['rating'] for entry in test_data]\n",
    "\n",
    "# get list of review lengths\n",
    "train_lengths = [len(entry['review_text']) for entry in train_data]\n",
    "test_lengths = [len(entry['review_text']) for entry in test_data]\n",
    "\n",
    "# get list of weeks\n",
    "train_dates = [(dateutil.parser.parse(entry['date_added'])) for entry in train_data]\n",
    "train_weeks = [entry.weekday() for entry in train_dates]\n",
    "\n",
    "test_dates = [(dateutil.parser.parse(entry['date_added'])) for entry in test_data]\n",
    "test_weeks = [entry.weekday() for entry in test_dates]\n",
    "\n",
    "# get list of years\n",
    "train_years = [entry.year for entry in train_dates]\n",
    "test_years = [entry.year for entry in test_dates]"
   ]
  },
  {
   "cell_type": "code",
   "execution_count": 151,
   "id": "7591eb39",
   "metadata": {},
   "outputs": [
    {
     "name": "stdout",
     "output_type": "stream",
     "text": [
      "Training set, just length (Q2 model):\n",
      "\n",
      "theta_0:  3.6840551062043443 \n",
      "theta_1:  5.736045794453801e-05\n",
      "mse:  [[1.58535619]]\n",
      "\n",
      "Training set, direct:\n",
      "\n",
      "theta_0:  -100.63942537343188 \n",
      "theta_1:  4.475708974256541e-05 \n",
      "theta_2:  0.009332242321749583 \n",
      "theta_3:  0.05181000263987082\n",
      "mse:  [[1.57000818]]\n",
      "\n",
      "Training set, one-hot:\n",
      "\n",
      "theta_0:  4.9066176133686294 \n",
      "theta_1:  3.829711293107942e-05 \n",
      "theta_2:  0.03443036412522361 \n",
      "theta_3:  0.17590587726452594\n",
      "mse:  [[1.53289791]]\n",
      "\n",
      "Test set, just length (Q2 model):\n",
      "\n",
      "mse:  [[1.51955809]]\n",
      "\n",
      "Test set, direct:\n",
      "\n",
      "mse:  [[1.50394693]]\n",
      "\n",
      "Test set, one-hot:\n",
      "\n",
      "mse:  [[1.49620161]]\n"
     ]
    }
   ],
   "source": [
    "# Training set\n",
    "# just length (Q2 model)\n",
    "print(\"Training set, just length (Q2 model):\\n\")\n",
    "train_model_q2 = predictor_q2(train_ratings, train_lengths)\n",
    "print(\"mse: \", get_mse_q2(train_model_q2, train_ratings, train_lengths))\n",
    "\n",
    "# Training Set\n",
    "# Direct\n",
    "print(\"\\nTraining set, direct:\\n\")\n",
    "train_model_dir = predictor(train_ratings, train_lengths, train_weeks, train_years)\n",
    "print(\"mse: \", get_mse(train_model_dir, train_ratings, train_lengths, train_weeks, train_years))\n",
    "\n",
    "# Training Set\n",
    "# One-hot encoding\n",
    "print(\"\\nTraining set, one-hot:\\n\")\n",
    "train_model_one = predictor_onehot(train_ratings, train_lengths, train_weeks, train_years)\n",
    "print(\"mse: \", get_mse_one(train_model_one, train_ratings, train_lengths, train_weeks, train_years))\n",
    "\n",
    "# Test set\n",
    "# just length (Q2 model)\n",
    "print(\"\\nTest set, just length (Q2 model):\\n\")\n",
    "print(\"mse: \", get_mse_q2(train_model_q2, test_ratings, test_lengths))\n",
    "\n",
    "# Test Set\n",
    "# Direct encoding\n",
    "print(\"\\nTest set, direct:\\n\")\n",
    "print(\"mse: \", get_mse(train_model_dir, test_ratings, test_lengths, test_weeks, test_years))\n",
    "\n",
    "# Test Set\n",
    "# One-hot encoding\n",
    "print(\"\\nTest set, one-hot:\\n\")\n",
    "print(\"mse: \", get_mse_one(train_model_one, test_ratings, test_lengths, test_weeks, test_years))"
   ]
  },
  {
   "cell_type": "markdown",
   "id": "dc0064d2",
   "metadata": {},
   "source": [
    "#### Q2 Model\n",
    "#### Train data MSE: 1.58535619\n",
    "#### Test data MSE: 1.51955809\n",
    "\n",
    "#### Q4 Model (direct)\n",
    "#### Train data MSE: 1.57000818\n",
    "#### Test data MSE: 1.50394693\n",
    "\n",
    "#### Q4 Model (one-hot)\n",
    "#### Train data MSE: 1.53289791\n",
    "#### Test data MSE: 1.49620161"
   ]
  },
  {
   "cell_type": "markdown",
   "id": "134416fd",
   "metadata": {},
   "source": [
    "Using beer review data:"
   ]
  },
  {
   "cell_type": "markdown",
   "id": "9b28c3e5",
   "metadata": {},
   "source": [
    "### 7. Fit a logistic regressor that estimates the binarized score from review length. Using the class weight=’balanced’ option, report the True Positive, True Negative, False Positive, False Negative, and Balanced Error Rates of the predictor."
   ]
  },
  {
   "cell_type": "code",
   "execution_count": 3,
   "id": "ff890a8b",
   "metadata": {},
   "outputs": [],
   "source": [
    "def parseDataFromFile(fname):\n",
    "    for l in open(fname):\n",
    "        yield eval(l)"
   ]
  },
  {
   "cell_type": "code",
   "execution_count": 4,
   "id": "f544295c",
   "metadata": {},
   "outputs": [],
   "source": [
    "# Read data\n",
    "data = list(parseDataFromFile(\"beer_50000.json\"))"
   ]
  },
  {
   "cell_type": "code",
   "execution_count": 20,
   "id": "01d0de62",
   "metadata": {},
   "outputs": [],
   "source": [
    "# label true if review overall is 4+\n",
    "# y = np.matrix([d['review/overall'] >= 4 for d in data]).T\n",
    "y = [d['review/overall'] >= 4 for d in data]\n",
    "\n",
    "# get review lengths\n",
    "#X = np.matrix([[1, len(b['review/text'])] for b in data])\n",
    "X = [[1, len(b['review/text'])] for b in data]\n",
    "samples = [len(b['review/text']) for b in data]"
   ]
  },
  {
   "cell_type": "code",
   "execution_count": 6,
   "id": "6749add7",
   "metadata": {},
   "outputs": [
    {
     "name": "stdout",
     "output_type": "stream",
     "text": [
      "{'review/appearance': 2.5, 'beer/style': 'Hefeweizen', 'review/palate': 1.5, 'review/taste': 1.5, 'beer/name': 'Sausa Weizen', 'review/timeUnix': 1234817823, 'beer/ABV': 5.0, 'beer/beerId': '47986', 'beer/brewerId': '10325', 'review/timeStruct': {'isdst': 0, 'mday': 16, 'hour': 20, 'min': 57, 'sec': 3, 'mon': 2, 'year': 2009, 'yday': 47, 'wday': 0}, 'review/overall': 1.5, 'review/text': 'A lot of foam. But a lot.\\tIn the smell some banana, and then lactic and tart. Not a good start.\\tQuite dark orange in color, with a lively carbonation (now visible, under the foam).\\tAgain tending to lactic sourness.\\tSame for the taste. With some yeast and banana.', 'user/profileName': 'stcules', 'review/aroma': 2.0}\n",
      "[[1, 262], [1, 338], [1, 396], [1, 401], [1, 1145], [1, 728], [1, 471], [1, 853], [1, 472], [1, 1035]]\n"
     ]
    }
   ],
   "source": [
    "print(data[0])\n",
    "print(X[:10])"
   ]
  },
  {
   "cell_type": "code",
   "execution_count": 7,
   "id": "946891b2",
   "metadata": {},
   "outputs": [
    {
     "data": {
      "text/plain": [
       "LogisticRegression(class_weight='balanced')"
      ]
     },
     "execution_count": 7,
     "metadata": {},
     "output_type": "execute_result"
    }
   ],
   "source": [
    "# logistic regressor\n",
    "model = linear_model.LogisticRegression(C=1.0, class_weight = 'balanced')\n",
    "model.fit(X,y)"
   ]
  },
  {
   "cell_type": "code",
   "execution_count": 8,
   "id": "9f5ba766",
   "metadata": {},
   "outputs": [],
   "source": [
    "pred = model.predict(X)"
   ]
  },
  {
   "cell_type": "code",
   "execution_count": 9,
   "id": "863fc30b",
   "metadata": {},
   "outputs": [],
   "source": [
    "TP_ = np.logical_and(pred, y)\n",
    "FP_ = np.logical_and(pred, np.logical_not(y))\n",
    "TN_ = np.logical_and(np.logical_not(pred), np.logical_not(y))\n",
    "FN_ = np.logical_and(np.logical_not(pred), y)\n",
    "\n",
    "TP = sum(TP_)\n",
    "FP = sum(FP_)\n",
    "TN = sum(TN_)\n",
    "FN = sum(FN_)"
   ]
  },
  {
   "cell_type": "code",
   "execution_count": 10,
   "id": "7c091b4b",
   "metadata": {},
   "outputs": [],
   "source": [
    "# BER\n",
    "BER = 1 - 0.5*(TP / (TP + FN) + TN / (TN + FP))"
   ]
  },
  {
   "cell_type": "code",
   "execution_count": 11,
   "id": "ab712431",
   "metadata": {},
   "outputs": [],
   "source": [
    "TPR = TP / (TP + FN)\n",
    "TNR = TN / (TN + FP)\n",
    "FPR = FP / (TN + FP)\n",
    "FNR = FN / (TP + FN)"
   ]
  },
  {
   "cell_type": "code",
   "execution_count": 12,
   "id": "99902285",
   "metadata": {},
   "outputs": [
    {
     "name": "stdout",
     "output_type": "stream",
     "text": [
      "True positives:  14201\n",
      "Rate:  0.4224979174104487\n",
      "False positives:  5885\n",
      "Rate:  0.35910422260190383\n",
      "True negatives:  10503\n",
      "Rate:  0.6408957773980962\n",
      "False negatives:  19411\n",
      "Rate:  0.5775020825895514\n",
      "Balanced error rate:  0.4683031525957275\n"
     ]
    }
   ],
   "source": [
    "print(\"True positives: \", TP)\n",
    "print(\"Rate: \", TPR)\n",
    "print(\"False positives: \", FP)\n",
    "print(\"Rate: \", FPR)\n",
    "print(\"True negatives: \", TN)\n",
    "print(\"Rate: \", TNR)\n",
    "print(\"False negatives: \", FN)\n",
    "print(\"Rate: \", FNR)\n",
    "print(\"Balanced error rate: \", BER)"
   ]
  },
  {
   "cell_type": "markdown",
   "id": "f039b5e6",
   "metadata": {},
   "source": [
    "True positives:  14201\n",
    "\n",
    "Rate:  0.4224979174104487\n",
    "\n",
    "False positives:  5885\n",
    "\n",
    "Rate:  0.35910422260190383\n",
    "\n",
    "True negatives:  10503\n",
    "\n",
    "Rate:  0.6408957773980962\n",
    "\n",
    "False negatives:  19411\n",
    "\n",
    "Rate:  0.5775020825895514\n",
    "\n",
    "Balanced error rate:  0.4683031525957275"
   ]
  },
  {
   "cell_type": "markdown",
   "id": "c17e882f",
   "metadata": {},
   "source": [
    "### 8. Plot the precision@K of your classifier for K = {1 . . . 10000} (i.e., the x-axis of your plot should be K, and the y-axis of your plot should be the precision@K)."
   ]
  },
  {
   "cell_type": "code",
   "execution_count": 27,
   "id": "92a63e12",
   "metadata": {},
   "outputs": [],
   "source": [
    "# k \n",
    "X_axis = [k for k in range(1,10001, 100)]\n",
    "\n",
    "# precision@k\n",
    "\n",
    "# generate (confidence, y-val)\n",
    "scores = model.decision_function(X)\n",
    "scoreslabels = list(zip(scores, y))\n",
    "scoreslabels.sort(reverse = True)"
   ]
  },
  {
   "cell_type": "code",
   "execution_count": 32,
   "id": "6835525e",
   "metadata": {},
   "outputs": [],
   "source": [
    "sortedlabels = [x[1] for x in scoreslabels]\n",
    "sortedscores = [x[0] for x in scoreslabels]"
   ]
  },
  {
   "cell_type": "code",
   "execution_count": 29,
   "id": "84c16698",
   "metadata": {},
   "outputs": [],
   "source": [
    "# precision\n",
    "\n",
    "# return (relevent, k, y)\n",
    "def get_precision(sortedlabels):\n",
    "    y_axis = []\n",
    "    \n",
    "    for k in range(1, 10001, 100):\n",
    "        \n",
    "\n",
    "        precision = sum(sortedlabels[:k]) / k\n",
    "        y_axis.append(precision)\n",
    "    \n",
    "    return y_axis \n",
    "\n",
    "y_axis = get_precision(sortedlabels)"
   ]
  },
  {
   "cell_type": "code",
   "execution_count": 30,
   "id": "e9d0b607",
   "metadata": {},
   "outputs": [
    {
     "data": {
      "image/png": "[encoded data removed]",
      "text/plain": [
       "<Figure size 432x288 with 1 Axes>"
      ]
     },
     "metadata": {
      "needs_background": "light"
     },
     "output_type": "display_data"
    }
   ],
   "source": [
    "# plot scatterplot\n",
    "plt.scatter(X_axis, y_axis)\n",
    "plt.xlabel(\"K\")\n",
    "plt.ylabel(\"Precision@k\")\n",
    "plt.title(\"With regard to positive class, Precision@K, inc 100\")\n",
    "plt.show()"
   ]
  },
  {
   "cell_type": "markdown",
   "id": "79e2b7d8",
   "metadata": {},
   "source": [
    "### 9. Our precision@K plot from Question 8 only measures precision with regard to the positive class. For this type of binary classification, we may be equally interested in the classifier’s accuracy for both the positive and negative classes. Recompute confidence scores for your classifier so that the ‘most confident’ predictions include either the most confident positive or the most confident negative predictions (i.e., probability closest to 1 or probability closest to zero). The precision@K now measures whether the classifier has the correct label (either ‘positive’ or ‘negative’) among the K most confident entries. Report this precision@K for K ∈ {1, 100, 10000} and include a plot as in Question 8."
   ]
  },
  {
   "cell_type": "code",
   "execution_count": 45,
   "id": "5d9d5cfc",
   "metadata": {},
   "outputs": [
    {
     "data": {
      "text/plain": [
       "[0.4605432527607113,\n",
       " 0.46723435155720827,\n",
       " 0.4723487872186698,\n",
       " 0.4727899741380273,\n",
       " 0.5385333063027186,\n",
       " 0.5017037894508095,\n",
       " 0.47897074146206486,\n",
       " 0.5127639928363613,\n",
       " 0.4790590893272605,\n",
       " 0.528842396320999]"
      ]
     },
     "execution_count": 45,
     "metadata": {},
     "output_type": "execute_result"
    }
   ],
   "source": [
    "# probability method\n",
    "probs = model.predict_proba(X)\n",
    "pos_probs = [p[1] for p in probs]\n",
    "abs_pos_probs = [abs(p - 0.5) for p in pos_probs]"
   ]
  },
  {
   "cell_type": "code",
   "execution_count": 41,
   "id": "8fcb179f",
   "metadata": {},
   "outputs": [],
   "source": [
    "TF_sortedscores = [x >= 0.0 for x in sortedscores] # T for positive or zero scores \n",
    "is_correct = [a == b for a,b in zip(TF_sortedscores,sortedlabels)] # is_correct labels for scores\n",
    "abs_sortedscores = [abs(x) for x in sortedscores]\n",
    "scoreslabels2 = list(zip(abs_sortedscores, is_correct)) # (positive score, is_correct)\n",
    "scoreslabels2.sort(reverse = True) \n",
    "\n",
    "# labels are no longer the original y -label\n",
    "# labels are now True if score and y matched, and False otherwise\n",
    "# should be sorted by highest abs(score)\n",
    "sortedlabels2 = [x[1] for x in scoreslabels2]"
   ]
  },
  {
   "cell_type": "code",
   "execution_count": 43,
   "id": "09dcb65c",
   "metadata": {},
   "outputs": [
    {
     "name": "stdout",
     "output_type": "stream",
     "text": [
      "[1.0, 0.75, 0.6208]\n"
     ]
    }
   ],
   "source": [
    "X_ax = [1, 100, 10000]\n",
    "\n",
    "def get_precision2(lbl):\n",
    "    \n",
    "    y_ax = []\n",
    "    \n",
    "    for k in X_ax:\n",
    "        \n",
    "        # relevant terms are correctly labeled\n",
    "        # now it's possible that negative, correctly labeled scores are included\n",
    "        intersection = sum(lbl[:k])\n",
    "        y_ax.append(intersection / k)\n",
    "        \n",
    "    return y_ax\n",
    "\n",
    "y_ax = get_precision2(sortedlabels2)\n",
    "print(y_ax)"
   ]
  },
  {
   "cell_type": "code",
   "execution_count": 44,
   "id": "ca105c03",
   "metadata": {},
   "outputs": [
    {
     "data": {
      "image/png": "[encoded data removed]",
      "text/plain": [
       "<Figure size 432x288 with 1 Axes>"
      ]
     },
     "metadata": {
      "needs_background": "light"
     },
     "output_type": "display_data"
    }
   ],
   "source": [
    "# plot scatterplot\n",
    "plt.scatter(X_ax, y_ax)\n",
    "plt.xlabel(\"K\")\n",
    "plt.ylabel(\"Precision@k\")\n",
    "plt.title(\"With regard to positive and negative class\")\n",
    "plt.show()"
   ]
  },
  {
   "cell_type": "markdown",
   "id": "3e3897e8",
   "metadata": {},
   "source": [
    "#### Precision@K for K = 1: 1.0\n",
    "#### Precision@K for K = 100: 0.75\n",
    "#### Precision@K for K = 10000: 0.6208"
   ]
  },
  {
   "cell_type": "code",
   "execution_count": null,
   "id": "7c07a002",
   "metadata": {},
   "outputs": [],
   "source": []
  }
 ],
 "metadata": {
  "kernelspec": {
   "display_name": "Python 3 (ipykernel)",
   "language": "python",
   "name": "python3"
  },
  "language_info": {
   "codemirror_mode": {
    "name": "ipython",
    "version": 3
   },
   "file_extension": ".py",
   "mimetype": "text/x-python",
   "name": "python",
   "nbconvert_exporter": "python",
   "pygments_lexer": "ipython3",
   "version": "3.8.11"
  }
 },
 "nbformat": 4,
 "nbformat_minor": 5
}
